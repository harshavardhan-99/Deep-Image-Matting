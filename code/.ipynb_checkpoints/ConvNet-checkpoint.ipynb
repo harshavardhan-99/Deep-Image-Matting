{
 "cells": [
  {
   "cell_type": "markdown",
   "metadata": {},
   "source": [
    "### Packages"
   ]
  },
  {
   "cell_type": "code",
   "execution_count": 1,
   "metadata": {},
   "outputs": [],
   "source": [
    "import torch\n",
    "import torch.nn as nn\n",
    "import math\n",
    "import cv2\n",
    "import torch.nn.functional as F"
   ]
  },
  {
   "cell_type": "markdown",
   "metadata": {},
   "source": [
    "### Encoder Decoder Network"
   ]
  },
  {
   "cell_type": "code",
   "execution_count": 2,
   "metadata": {},
   "outputs": [],
   "source": [
    "class EDNet(nn.Module):\n",
    "    def __init__(self):\n",
    "        super(EDNet, self).__init__()\n",
    "        \n",
    "        # Encoder layers\n",
    "        self.conv1_1 = nn.Conv2d(4, 64, kernel_size=3,stride = 1, padding=1,bias=True)\n",
    "        self.conv1_2 = nn.Conv2d(64, 64, kernel_size=3,stride = 1, padding=1,bias=True)\n",
    "        self.conv2_1 = nn.Conv2d(64, 128, kernel_size=3, padding=1,bias=True)\n",
    "        self.conv2_2 = nn.Conv2d(128, 128, kernel_size=3, padding=1,bias=True)\n",
    "        self.conv3_1 = nn.Conv2d(128, 256, kernel_size=3, padding=1,bias=True)\n",
    "        self.conv3_2 = nn.Conv2d(256, 256, kernel_size=3, padding=1,bias=True)\n",
    "        self.conv3_3 = nn.Conv2d(256, 256, kernel_size=3, padding=1,bias=True)\n",
    "        self.conv4_1 = nn.Conv2d(256, 512, kernel_size=3, padding=1,bias=True)\n",
    "        self.conv4_2 = nn.Conv2d(512, 512, kernel_size=3, padding=1,bias=True)\n",
    "        self.conv4_3 = nn.Conv2d(512, 512, kernel_size=3, padding=1,bias=True)\n",
    "        self.conv5_1 = nn.Conv2d(512, 512, kernel_size=3, padding=1,bias=True)\n",
    "        self.conv5_2 = nn.Conv2d(512, 512, kernel_size=3, padding=1,bias=True)\n",
    "        self.conv5_3 = nn.Conv2d(512, 512, kernel_size=3, padding=1,bias=True)\n",
    "        self.conv6_1 = nn.Conv2d(512, 512, kernel_size=1, padding=0,bias=True)\n",
    "        \n",
    "        # Decoder layers\n",
    "        self.deconv6_1 = nn.Conv2d(512, 512, kernel_size=1,bias=True)\n",
    "        self.deconv5_1 = nn.Conv2d(512, 512, kernel_size=5, padding=2,bias=True)\n",
    "        self.deconv4_1 = nn.Conv2d(512, 256, kernel_size=5, padding=2,bias=True)\n",
    "        self.deconv3_1 = nn.Conv2d(256, 128, kernel_size=5, padding=2,bias=True)\n",
    "        self.deconv2_1 = nn.Conv2d(128, 64, kernel_size=5, padding=2,bias=True)\n",
    "        self.deconv1_1 = nn.Conv2d(64, 64, kernel_size=5, padding=2,bias=True)\n",
    "        \n",
    "        # Alpha prediction layer\n",
    "        self.deconv1 = nn.Conv2d(64, 1, kernel_size=5, padding=2,bias=True)\n",
    "        \n",
    "    def forward(self, x):\n",
    "        # Stage 1\n",
    "        x11 = F.relu(self.conv1_1(x))\n",
    "        x12 = F.relu(self.conv1_2(x11))\n",
    "        x1p, id1 = F.max_pool2d(x12,kernel_size=(2,2), stride=(2,2),return_indices=True)\n",
    "\n",
    "        # Stage 2\n",
    "        x21 = F.relu(self.conv2_1(x1p))\n",
    "        x22 = F.relu(self.conv2_2(x21))\n",
    "        x2p, id2 = F.max_pool2d(x22,kernel_size=(2,2), stride=(2,2),return_indices=True)\n",
    "\n",
    "        # Stage 3\n",
    "        x31 = F.relu(self.conv3_1(x2p))\n",
    "        x32 = F.relu(self.conv3_2(x31))\n",
    "        x33 = F.relu(self.conv3_3(x32))\n",
    "        x3p, id3 = F.max_pool2d(x33,kernel_size=(2,2), stride=(2,2),return_indices=True)\n",
    "\n",
    "        # Stage 4\n",
    "        x41 = F.relu(self.conv4_1(x3p))\n",
    "        x42 = F.relu(self.conv4_2(x41))\n",
    "        x43 = F.relu(self.conv4_3(x42))\n",
    "        x4p, id4 = F.max_pool2d(x43,kernel_size=(2,2), stride=(2,2),return_indices=True)\n",
    "\n",
    "        # Stage 5\n",
    "        x51 = F.relu(self.conv5_1(x4p))\n",
    "        x52 = F.relu(self.conv5_2(x51))\n",
    "        x53 = F.relu(self.conv5_3(x52))\n",
    "        x5p, id5 = F.max_pool2d(x53,kernel_size=(2,2), stride=(2,2),return_indices=True)\n",
    "\n",
    "        # Stage 6\n",
    "        x61 = F.relu(self.conv6_1(x5p))\n",
    "\n",
    "        # Stage 1d\n",
    "        x61d = F.relu(self.deconv6_1(x61))\n",
    "\n",
    "        # Stage 2d\n",
    "        x5d = F.max_unpool2d(x61d,id5, kernel_size=2, stride=2)\n",
    "        x51d = F.relu(self.deconv5_1(x5d))\n",
    "\n",
    "        # Stage 3d\n",
    "        x4d = F.max_unpool2d(x51d, id4, kernel_size=2, stride=2)\n",
    "        x41d = F.relu(self.deconv4_1(x4d))\n",
    "\n",
    "        # Stage 4d\n",
    "        x3d = F.max_unpool2d(x41d, id3, kernel_size=2, stride=2)\n",
    "        x31d = F.relu(self.deconv3_1(x3d))\n",
    "\n",
    "        # Stage 5d\n",
    "        x2d = F.max_unpool2d(x31d, id2, kernel_size=2, stride=2)\n",
    "        x21d = F.relu(self.deconv2_1(x2d))\n",
    "\n",
    "        # Stage 6d\n",
    "        x1d = F.max_unpool2d(x21d, id1, kernel_size=2, stride=2)\n",
    "        x12d = F.relu(self.deconv1_1(x1d))\n",
    "\n",
    "        raw_alpha = self.deconv1(x12d)\n",
    "        pred_mattes = torch.sigmoid(raw_alpha)\n",
    "        \n",
    "        return pred_mattes"
   ]
  },
  {
   "cell_type": "code",
   "execution_count": 7,
   "metadata": {},
   "outputs": [],
   "source": [
    "def get_model():\n",
    "    model = EDNet()\n",
    "    model.apply(intialize_weights)\n",
    "    return model"
   ]
  },
  {
   "cell_type": "markdown",
   "metadata": {},
   "source": [
    "### Using Xavier intialization for weights"
   ]
  },
  {
   "cell_type": "code",
   "execution_count": 4,
   "metadata": {},
   "outputs": [],
   "source": [
    "def intialize_weights(m):\n",
    "    if isinstance(m, nn.Conv2d):\n",
    "        torch.nn.init.xavier_normal_(m.weight.data)\n",
    "    elif isinstance(m, nn.BatchNorm2d):\n",
    "        m.weight.data.fill_(1)\n",
    "        m.bias.data.zero_()"
   ]
  },
  {
   "cell_type": "markdown",
   "metadata": {},
   "source": [
    "### Model example"
   ]
  },
  {
   "cell_type": "code",
   "execution_count": 8,
   "metadata": {},
   "outputs": [
    {
     "data": {
      "text/plain": [
       "EDNet(\n",
       "  (conv1_1): Conv2d(4, 64, kernel_size=(3, 3), stride=(1, 1), padding=(1, 1))\n",
       "  (conv1_2): Conv2d(64, 64, kernel_size=(3, 3), stride=(1, 1), padding=(1, 1))\n",
       "  (conv2_1): Conv2d(64, 128, kernel_size=(3, 3), stride=(1, 1), padding=(1, 1))\n",
       "  (conv2_2): Conv2d(128, 128, kernel_size=(3, 3), stride=(1, 1), padding=(1, 1))\n",
       "  (conv3_1): Conv2d(128, 256, kernel_size=(3, 3), stride=(1, 1), padding=(1, 1))\n",
       "  (conv3_2): Conv2d(256, 256, kernel_size=(3, 3), stride=(1, 1), padding=(1, 1))\n",
       "  (conv3_3): Conv2d(256, 256, kernel_size=(3, 3), stride=(1, 1), padding=(1, 1))\n",
       "  (conv4_1): Conv2d(256, 512, kernel_size=(3, 3), stride=(1, 1), padding=(1, 1))\n",
       "  (conv4_2): Conv2d(512, 512, kernel_size=(3, 3), stride=(1, 1), padding=(1, 1))\n",
       "  (conv4_3): Conv2d(512, 512, kernel_size=(3, 3), stride=(1, 1), padding=(1, 1))\n",
       "  (conv5_1): Conv2d(512, 512, kernel_size=(3, 3), stride=(1, 1), padding=(1, 1))\n",
       "  (conv5_2): Conv2d(512, 512, kernel_size=(3, 3), stride=(1, 1), padding=(1, 1))\n",
       "  (conv5_3): Conv2d(512, 512, kernel_size=(3, 3), stride=(1, 1), padding=(1, 1))\n",
       "  (conv6_1): Conv2d(512, 512, kernel_size=(1, 1), stride=(1, 1))\n",
       "  (deconv6_1): Conv2d(512, 512, kernel_size=(1, 1), stride=(1, 1))\n",
       "  (deconv5_1): Conv2d(512, 512, kernel_size=(5, 5), stride=(1, 1), padding=(2, 2))\n",
       "  (deconv4_1): Conv2d(512, 256, kernel_size=(5, 5), stride=(1, 1), padding=(2, 2))\n",
       "  (deconv3_1): Conv2d(256, 128, kernel_size=(5, 5), stride=(1, 1), padding=(2, 2))\n",
       "  (deconv2_1): Conv2d(128, 64, kernel_size=(5, 5), stride=(1, 1), padding=(2, 2))\n",
       "  (deconv1_1): Conv2d(64, 64, kernel_size=(5, 5), stride=(1, 1), padding=(2, 2))\n",
       "  (deconv1): Conv2d(64, 1, kernel_size=(5, 5), stride=(1, 1), padding=(2, 2))\n",
       ")"
      ]
     },
     "execution_count": 8,
     "metadata": {},
     "output_type": "execute_result"
    }
   ],
   "source": [
    "get_model()"
   ]
  }
 ],
 "metadata": {
  "kernelspec": {
   "display_name": "CV Project",
   "language": "python",
   "name": "venv"
  },
  "language_info": {
   "codemirror_mode": {
    "name": "ipython",
    "version": 2
   },
   "file_extension": ".py",
   "mimetype": "text/x-python",
   "name": "python",
   "nbconvert_exporter": "python",
   "pygments_lexer": "ipython2",
   "version": "2.7.12"
  }
 },
 "nbformat": 4,
 "nbformat_minor": 2
}

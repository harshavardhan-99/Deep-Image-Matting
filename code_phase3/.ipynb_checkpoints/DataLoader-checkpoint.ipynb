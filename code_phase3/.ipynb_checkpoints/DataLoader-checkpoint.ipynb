{
 "cells": [
  {
   "cell_type": "markdown",
   "metadata": {},
   "source": [
    "### Load Packages"
   ]
  },
  {
   "cell_type": "code",
   "execution_count": 1,
   "metadata": {},
   "outputs": [],
   "source": [
    "import torch\n",
    "import random\n",
    "import cv2\n",
    "import numpy as np\n",
    "from torch.utils.data import DataLoader\n",
    "import matplotlib.pyplot as plt"
   ]
  },
  {
   "cell_type": "markdown",
   "metadata": {},
   "source": [
    "### Load dataset"
   ]
  },
  {
   "cell_type": "code",
   "execution_count": 2,
   "metadata": {},
   "outputs": [],
   "source": [
    "def load_dataset(fg_path, alpha_path, bg_path, files_list):\n",
    "    train_item = TrainClass1(fg_path, alpha_path, bg_path, files_list)\n",
    "#     train_item = TrainClass(fg_path, alpha_path, bg_path, files_list)\n",
    "#     train_loader = DataLoader(dataset=train_item, num_workers=4, batch_size=1, shuffle=True)\n",
    "#     return train_loader\n",
    "    return train_item"
   ]
  },
  {
   "cell_type": "markdown",
   "metadata": {},
   "source": [
    "### Train Class for preprocesing"
   ]
  },
  {
   "cell_type": "code",
   "execution_count": 3,
   "metadata": {},
   "outputs": [],
   "source": [
    "class TrainClass(torch.utils.data.Dataset):\n",
    "    \n",
    "    def __init__(self, fg_path, alpha_path, bg_path, files_list):\n",
    "        self.samples = files_list\n",
    "        self.fg_path = fg_path\n",
    "        self.alpha_path = alpha_path\n",
    "        self.bg_path = bg_path\n",
    "        self.crop_h = [320]\n",
    "        self.crop_w = [320]\n",
    "        self.size_h = 320\n",
    "        self.size_w = 320\n",
    "    \n",
    "    def __getitem__(self, index):\n",
    "        fg_file = self.samples[index][0]\n",
    "        bg_file = self.samples[index][1]\n",
    "        alpha_file = self.samples[index][2]\n",
    "#         print(fg_file, bg_file, alpha_file)\n",
    "        fg = cv2.imread(self.fg_path + fg_file)\n",
    "        bg = cv2.imread(self.bg_path + bg_file)\n",
    "        alpha = cv2.imread(self.alpha_path + alpha_file)\n",
    "        cv2.imwrite('composite.jpg', composite(fg, bg, alpha))\n",
    "        fg = fg[:, :, :3]\n",
    "        bg = bg[:, :, :3]\n",
    "        alpha = alpha[:, :, 0]\n",
    "        img = cv2.imread('composite.jpg')\n",
    "        img = img[:, :, :3]\n",
    "\n",
    "        bh, bw, bc, = fg.shape\n",
    "        rand_ind = random.randint(0, len(self.crop_h) - 1)\n",
    "        cur_crop_h = self.crop_h[rand_ind]\n",
    "        cur_crop_w = self.crop_w[rand_ind]\n",
    "\n",
    "        wratio = float(cur_crop_w) / bw\n",
    "        hratio = float(cur_crop_h) / bh\n",
    "        ratio = wratio if wratio > hratio else hratio\n",
    "        if ratio > 1:\n",
    "            nbw = int(bw * ratio + 1.0)\n",
    "            nbh = int(bh * ratio + 1.0)\n",
    "            fg = cv2.resize(fg, (nbw, nbh), interpolation=cv2.INTER_LINEAR)\n",
    "            bg = cv2.resize(bg, (nbw, nbh), interpolation=cv2.INTER_LINEAR)\n",
    "            img = cv2.resize(img, (nbw, nbh), interpolation=cv2.INTER_LINEAR)\n",
    "            alpha = cv2.resize(alpha, (nbw, nbh), interpolation=cv2.INTER_LINEAR)\n",
    "        trimap = get_trimap(alpha)\n",
    "\n",
    "#         img, alpha, fg, bg, trimap = transform(img, alpha, fg, bg, trimap, cur_crop_h, cur_crop_w, True)\n",
    "\n",
    "        if self.size_h != img.shape[0] or self.size_w != img.shape[1]:\n",
    "            img = cv2.resize(img, (self.size_w, self.size_h), interpolation=cv2.INTER_LINEAR)\n",
    "            fg = cv2.resize(fg, (self.size_w, self.size_h), interpolation=cv2.INTER_LINEAR)\n",
    "            bg = cv2.resize(bg, (self.size_w, self.size_h), interpolation=cv2.INTER_LINEAR)\n",
    "            alpha = cv2.resize(alpha, (self.size_w, self.size_h), interpolation=cv2.INTER_LINEAR)\n",
    "\n",
    "        trimap = get_trimap(alpha)\n",
    "#         grad = compute_gradient(img)\n",
    "\n",
    "        alpha = torch.from_numpy(alpha.astype(np.float32)[np.newaxis, :, :])\n",
    "        trimap = torch.from_numpy(trimap.astype(np.float32)[np.newaxis, :, :])\n",
    "#         grad = torch.from_numpy(grad.astype(np.float32)[np.newaxis, :, :])\n",
    "        img = torch.from_numpy(img.astype(np.float32)).permute(2, 0, 1)\n",
    "        fg = torch.from_numpy(fg.astype(np.float32)).permute(2, 0, 1)\n",
    "        bg = torch.from_numpy(bg.astype(np.float32)).permute(2, 0, 1)\n",
    "\n",
    "        return img, alpha, fg, bg, trimap\n",
    "\n",
    "    def __len__(self):\n",
    "        return len(self.samples)\n",
    "\n",
    "    def __getinfo__(self, index):\n",
    "        return self.samples[index]"
   ]
  },
  {
   "cell_type": "markdown",
   "metadata": {},
   "source": [
    "### Random crops and transforms"
   ]
  },
  {
   "cell_type": "code",
   "execution_count": 4,
   "metadata": {},
   "outputs": [],
   "source": [
    "def transform(img, alpha, fg, bg, trimap, crop_h, crop_w, flip=True):\n",
    "    h, w = alpha.shape\n",
    "    h = min(h, bg.shape[0])\n",
    "    w = min(w, bg.shape[1])\n",
    "    target = np.where(trimap == 128)\n",
    "    cropx, cropy = 0, 0\n",
    "    if len(target[0]) > 0:\n",
    "        rand_ind = np.random.randint(len(target[0]), size = 1)[0]\n",
    "        cropx, cropy = target[0][rand_ind], target[1][rand_ind]\n",
    "        cropx = min(max(cropx, 0), w - crop_w)\n",
    "        cropy = min(max(cropy, 0), h - crop_h)\n",
    "#     print('#################################')\n",
    "#     print(cropx, cropy)\n",
    "#     cropx = min(cropx, min(fg.shape[1], bf.shape[1]) - 1)\n",
    "#     cropy = min(cropy, min(fg.shape[0], bf.shape[0]) - 1)\n",
    "#     crop_h = min(crop_h, )\n",
    "#     print(img.shape, fg.shape, bg.shape, alpha.shape, trimap.shape)\n",
    "    img    = img   [cropy : cropy + crop_h, cropx : cropx + crop_w]\n",
    "    fg     = fg    [cropy : cropy + crop_h, cropx : cropx + crop_w]\n",
    "    bg     = bg    [cropy : cropy + crop_h, cropx : cropx + crop_w]\n",
    "    alpha  = alpha [cropy : cropy + crop_h, cropx : cropx + crop_w]\n",
    "    trimap = trimap[cropy : cropy + crop_h, cropx : cropx + crop_w]\n",
    "#     print(img.shape, fg.shape, bg.shape, alpha.shape, trimap.shape)\n",
    "    if flip and random.random() < 0.5:\n",
    "        img = cv2.flip(img, 1)\n",
    "        alpha = cv2.flip(alpha, 1)\n",
    "        fg = cv2.flip(fg, 1)\n",
    "        bg = cv2.flip(bg, 1)\n",
    "        trimap = cv2.flip(trimap, 1)\n",
    "\n",
    "    return img, alpha, fg, bg, trimap"
   ]
  },
  {
   "cell_type": "markdown",
   "metadata": {},
   "source": [
    "### Generate trimap of an element"
   ]
  },
  {
   "cell_type": "code",
   "execution_count": 5,
   "metadata": {},
   "outputs": [],
   "source": [
    "def get_trimap(alpha):\n",
    "    k_size = random.choice(range(1, 5))\n",
    "    kernel = cv2.getStructuringElement(cv2.MORPH_ELLIPSE, (k_size, k_size))\n",
    "    dilated = cv2.dilate(alpha, kernel, iterations=np.random.randint(1, 20))\n",
    "    trimap = np.zeros(alpha.shape)\n",
    "    trimap.fill(128)\n",
    "    trimap[alpha >= 255] = 255\n",
    "    trimap[dilated <= 0] = 0\n",
    "\n",
    "    return trimap"
   ]
  },
  {
   "cell_type": "markdown",
   "metadata": {},
   "source": [
    "### Computing the image from fg, bg and alpha"
   ]
  },
  {
   "cell_type": "code",
   "execution_count": 6,
   "metadata": {},
   "outputs": [],
   "source": [
    "def composite(fg, bg, alpha):\n",
    "    h, w ,c = fg.shape\n",
    "    bh, bw, bc = bg.shape\n",
    "    wratio = float(w) / bw\n",
    "    hratio = float(h) / bh\n",
    "    ratio = wratio if wratio > hratio else hratio     \n",
    "    if ratio > 1:\n",
    "        new_bw = int(bw * ratio + 1.0)\n",
    "        new_bh = int(bh * ratio + 1.0)\n",
    "        bg = cv2.resize(bg, (new_bw, new_bh), interpolation=cv2.INTER_LINEAR)\n",
    "    bg = bg[0 : h, 0 : w, :]\n",
    "    alpha_f = alpha / 255.\n",
    "    comp = fg * alpha_f + bg * (1. - alpha_f)\n",
    "    return comp"
   ]
  },
  {
   "cell_type": "markdown",
   "metadata": {},
   "source": [
    "### Testing composite function"
   ]
  },
  {
   "cell_type": "code",
   "execution_count": 7,
   "metadata": {},
   "outputs": [],
   "source": [
    "# comp = composite(cv2.imread('fg1.jpg'), cv2.imread('bg1.jpg'), cv2.imread('alpha1.jpg'))\n",
    "# comp = comp.astype(np.uint8)\n",
    "# plt.figure()\n",
    "# plt.subplot(121)\n",
    "# plt.imshow(comp)\n",
    "# cv2.imwrite('/home/subramanyam.m/temp.jpg', comp)\n",
    "# comp1 = cv2.imread('/home/subramanyam.m/temp.jpg')\n",
    "# plt.subplot(122)\n",
    "# plt.imshow(comp1)\n",
    "# print((comp - comp1).sum()/comp.shape[0]/comp.shape[1])"
   ]
  },
  {
   "cell_type": "markdown",
   "metadata": {},
   "source": [
    "### Dummy function"
   ]
  },
  {
   "cell_type": "code",
   "execution_count": 2,
   "metadata": {},
   "outputs": [],
   "source": [
    "class TrainClass1():\n",
    "    \n",
    "    def __init__(self, fg_path, alpha_path, bg_path, files_list):\n",
    "        self.samples = files_list\n",
    "        self.fg_path = fg_path\n",
    "        self.alpha_path = alpha_path\n",
    "        self.bg_path = bg_path\n",
    "        self.crop_h = [320]\n",
    "        self.crop_w = [320]\n",
    "        self.size_h = 320\n",
    "        self.size_w = 320\n",
    "    \n",
    "    def __getitem__(self, index):\n",
    "        fg_file = self.samples[index][0]\n",
    "        bg_file = self.samples[index][1]\n",
    "        alpha_file = self.samples[index][2]\n",
    "#         print(fg_file, bg_file, alpha_file)\n",
    "        fg = cv2.imread(self.fg_path + fg_file)\n",
    "        bg = cv2.imread(self.bg_path + bg_file)\n",
    "        alpha = cv2.imread(self.alpha_path + alpha_file)\n",
    "#         print('#########')\n",
    "#         print(fg.shape, bg.shape, alpha.shape)\n",
    "#         print('#########')\n",
    "        cv2.imwrite('composite.jpg', composite(fg, bg, alpha))\n",
    "        fg = fg[:, :, :3]\n",
    "        bg = bg[:, :, :3]\n",
    "        alpha = alpha[:, :, 0]\n",
    "        img = cv2.imread('composite.jpg')\n",
    "        img = img[:, :, :3]\n",
    "\n",
    "        bh, bw, bc, = fg.shape\n",
    "        rand_ind = random.randint(0, len(self.crop_h) - 1)\n",
    "        cur_crop_h = self.crop_h[rand_ind]\n",
    "        cur_crop_w = self.crop_w[rand_ind]\n",
    "\n",
    "        wratio = float(cur_crop_w) / bw\n",
    "        hratio = float(cur_crop_h) / bh\n",
    "        ratio = wratio if wratio > hratio else hratio\n",
    "        if ratio > 1:\n",
    "            nbw = int(bw * ratio + 1.0)\n",
    "            nbh = int(bh * ratio + 1.0)\n",
    "            fg = cv2.resize(fg, (nbw, nbh), interpolation=cv2.INTER_LINEAR)\n",
    "            bg = cv2.resize(bg, (nbw, nbh), interpolation=cv2.INTER_LINEAR)\n",
    "            img = cv2.resize(img, (nbw, nbh), interpolation=cv2.INTER_LINEAR)\n",
    "            alpha = cv2.resize(alpha, (nbw, nbh), interpolation=cv2.INTER_LINEAR)\n",
    "        trimap = get_trimap(alpha)\n",
    "\n",
    "#         img, alpha, fg, bg, trimap = transform(img, alpha, fg, bg, trimap, cur_crop_h, cur_crop_w, True)\n",
    "\n",
    "        if self.size_h != img.shape[0] or self.size_w != img.shape[1]:\n",
    "            img = cv2.resize(img, (self.size_w, self.size_h), interpolation=cv2.INTER_LINEAR)\n",
    "            fg = cv2.resize(fg, (self.size_w, self.size_h), interpolation=cv2.INTER_LINEAR)\n",
    "            bg = cv2.resize(bg, (self.size_w, self.size_h), interpolation=cv2.INTER_LINEAR)\n",
    "            alpha = cv2.resize(alpha, (self.size_w, self.size_h), interpolation=cv2.INTER_LINEAR)\n",
    "\n",
    "        trimap = get_trimap(alpha)\n",
    "#         grad = compute_gradient(img)\n",
    "\n",
    "        alpha = torch.from_numpy(alpha.astype(np.float32)[np.newaxis, :, :])\n",
    "        trimap = torch.from_numpy(trimap.astype(np.float32)[np.newaxis, :, :])\n",
    "#         grad = torch.from_numpy(grad.astype(np.float32)[np.newaxis, :, :])\n",
    "        img = torch.from_numpy(img.astype(np.float32)).permute(2, 0, 1)\n",
    "        fg = torch.from_numpy(fg.astype(np.float32)).permute(2, 0, 1)\n",
    "        bg = torch.from_numpy(bg.astype(np.float32)).permute(2, 0, 1)\n",
    "\n",
    "        return img, alpha, fg, bg, trimap\n",
    "\n",
    "    def __len__(self):\n",
    "        return len(self.samples)\n",
    "    \n",
    "    def __getinfo__(self, index):\n",
    "        return self.samples[index]"
   ]
  },
  {
   "cell_type": "code",
   "execution_count": null,
   "metadata": {},
   "outputs": [],
   "source": []
  }
 ],
 "metadata": {
  "kernelspec": {
   "display_name": "Python 3",
   "language": "python",
   "name": "python3"
  },
  "language_info": {
   "codemirror_mode": {
    "name": "ipython",
    "version": 3
   },
   "file_extension": ".py",
   "mimetype": "text/x-python",
   "name": "python",
   "nbconvert_exporter": "python",
   "pygments_lexer": "ipython3",
   "version": "3.5.2"
  }
 },
 "nbformat": 4,
 "nbformat_minor": 2
}

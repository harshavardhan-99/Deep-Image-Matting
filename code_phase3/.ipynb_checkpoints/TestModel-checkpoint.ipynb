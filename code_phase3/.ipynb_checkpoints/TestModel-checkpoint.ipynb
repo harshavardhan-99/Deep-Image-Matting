{
 "cells": [
  {
   "cell_type": "markdown",
   "metadata": {},
   "source": [
    "### Load Packages"
   ]
  },
  {
   "cell_type": "code",
   "execution_count": 1,
   "metadata": {},
   "outputs": [
    {
     "name": "stdout",
     "output_type": "stream",
     "text": [
      "importing Jupyter notebook from UNet.ipynb\n",
      "importing Jupyter notebook from DataLoader.ipynb\n",
      "importing Jupyter notebook from ConvNet.ipynb\n"
     ]
    }
   ],
   "source": [
    "import import_ipynb\n",
    "from UNet import UNet\n",
    "import torch\n",
    "import time\n",
    "import sys\n",
    "from DataLoader import load_dataset\n",
    "from ConvNet import get_model\n",
    "import numpy as np\n",
    "import cv2\n",
    "import torch.optim as optim\n",
    "from torch.autograd import Variable\n",
    "import matplotlib.pyplot as plt"
   ]
  },
  {
   "cell_type": "markdown",
   "metadata": {},
   "source": [
    "### Keep checking learning rate"
   ]
  },
  {
   "cell_type": "code",
   "execution_count": 2,
   "metadata": {},
   "outputs": [],
   "source": [
    "def check_lr(optimizer, epoch):\n",
    "    if epoch >= 10:\n",
    "        for param_group in opt.param_groups:\n",
    "            param_group['lr'] *= 0.1"
   ]
  },
  {
   "cell_type": "markdown",
   "metadata": {},
   "source": [
    "### Copy pretrained model"
   ]
  },
  {
   "cell_type": "code",
   "execution_count": 3,
   "metadata": {},
   "outputs": [],
   "source": [
    "def copy_pretrain_vals(model, vgg_dict, isstrict):\n",
    "    model.load_state_dict(vgg_dict,strict=isstrict)\n",
    "    return model"
   ]
  },
  {
   "cell_type": "markdown",
   "metadata": {},
   "source": [
    "### Generating a file list array for data loader"
   ]
  },
  {
   "cell_type": "code",
   "execution_count": 4,
   "metadata": {},
   "outputs": [],
   "source": [
    "def get_files_list(fg_file, bg_file):\n",
    "    fg_list = []\n",
    "    bg_list = []\n",
    "    with open(fg_file, 'r') as f:\n",
    "        fg_list = f.readlines()\n",
    "    with open(bg_file, 'r') as f:\n",
    "        bg_list = f.readlines()\n",
    "    for i in range(len(fg_list)):\n",
    "        fg_list[i] = fg_list[i].strip('\\n').strip('\\r')\n",
    "    for i in range(len(bg_list)):\n",
    "        bg_list[i] = bg_list[i].strip('\\n').strip('\\r')\n",
    "    arr = []\n",
    "    cnt = 0\n",
    "    for i in range(len(fg_list)):\n",
    "        for j in range(20):\n",
    "            arr.append((fg_list[i], bg_list[cnt], fg_list[i], fg_list[i].strip('.png') + '_' + str(j) + '.png'))\n",
    "            cnt += 1\n",
    "    return arr"
   ]
  },
  {
   "cell_type": "markdown",
   "metadata": {},
   "source": [
    "### Test model function"
   ]
  },
  {
   "cell_type": "code",
   "execution_count": 5,
   "metadata": {},
   "outputs": [],
   "source": [
    "def test_model(model, dataset, trimap_path, cuda=False):\n",
    "    model.eval()\n",
    "    mse_diffs = 0.\n",
    "    sad_diffs = 0.\n",
    "    mse_diffs1 = 0.\n",
    "    sad_diffs1 = 0.\n",
    "    print(dataset.__len__())\n",
    "    for iteration in range(0, dataset.__len__(), 20):\n",
    "        try:\n",
    "            torch.cuda.empty_cache()\n",
    "            file_info =  dataset.__getinfo__(iteration)\n",
    "            print(file_info)\n",
    "    #         print(file_info)\n",
    "            batch = dataset.__getitem__(iteration)\n",
    "            if batch == None:\n",
    "                continue\n",
    "            batch0 = batch[0].reshape(1, batch[0].shape[0], batch[0].shape[1], batch[0].shape[2])\n",
    "            batch1 = batch[1].reshape(1, batch[1].shape[0], batch[1].shape[1], batch[1].shape[2])\n",
    "            batch2 = batch[2].reshape(1, batch[2].shape[0], batch[2].shape[1], batch[2].shape[2])\n",
    "            batch3 = batch[3].reshape(1, batch[3].shape[0], batch[3].shape[1], batch[3].shape[2])\n",
    "            batch4 = batch[4].reshape(1, batch[4].shape[0], batch[4].shape[1], batch[4].shape[2])\n",
    "            img = Variable(batch0)\n",
    "            alpha = Variable(batch1)\n",
    "            fg = Variable(batch2)\n",
    "            bg = Variable(batch3)\n",
    "            image = cv2.imread('/scratch/matting/dataset/Test_set/adobe/fg/' + file_info[0])\n",
    "            if iteration %20 == 0:\n",
    "                cv2.imwrite('../results_last/images/image_' + str(iteration/20) + '.jpg', image)\n",
    "            trimap = cv2.imread(trimap_path + file_info[3])[:, :, 0]\n",
    "            trimap = cv2.resize(trimap, (img.shape[3], img.shape[2]), interpolation=cv2.INTER_LINEAR)\n",
    "            trimap = torch.from_numpy(trimap.astype(np.float32)[np.newaxis, :, :])\n",
    "            trimap = trimap.reshape(1, trimap.shape[0], trimap.shape[1], trimap.shape[2])\n",
    "    #         trimap = Variable(trimap)\n",
    "            trimap = cv2.imread(trimap_path + file_info[3])[:, :, 0]\n",
    "            trimap = cv2.resize(trimap, (img.shape[3], img.shape[2]), interpolation=cv2.INTER_LINEAR)\n",
    "    #         print(trimap.shape)\n",
    "            trimap = torch.from_numpy(trimap.astype(np.float32)[np.newaxis, :, :])\n",
    "    #         print(trimap.size())\n",
    "            trimap = trimap.reshape(1, trimap.shape[0], trimap.shape[1], trimap.shape[2])\n",
    "    #         print(trimap.size())\n",
    "            trimap = Variable(trimap)\n",
    "            if cuda:\n",
    "                img = img.cuda()\n",
    "                alpha = alpha.cuda()\n",
    "                fg = fg.cuda()\n",
    "                bg = bg.cuda()\n",
    "                trimap = trimap.cuda()\n",
    "\n",
    "            pred_alpha, pred_mattes = model(torch.cat((img, trimap), 1))\n",
    "    #         pred_mattes = pred_mattes.data\n",
    "            pred_alpha = pred_alpha.data\n",
    "            if cuda:\n",
    "                pred_mattes = pred_mattes.cpu()\n",
    "                pred_alpha = pred_alpha.cpu()\n",
    "            pred_alpha = pred_alpha.numpy()[0, 0, :, :]\n",
    "    #         pred_alpha[trimap >= 100] = 1.\n",
    "    #         pred_alpha[trimap == 0] = 0.\n",
    "    #         pred_mattes = pred_mattes.numpy()[0, 0, :, :]\n",
    "    #         pred_mattes[trimap >= 100] = 1.\n",
    "    #         pred_mattes[trimap == 0 ] = 0.\n",
    "            pixel = float((trimap == 128).sum())\n",
    "            alpha = cv2.imread('/scratch/matting/dataset/Test_set/adobe/alpha/' + file_info[2])[:, :, 0]\n",
    "            alpha = cv2.resize(alpha, (pred_alpha.shape[1], pred_alpha.shape[0]), interpolation=cv2.INTER_LINEAR)\n",
    "            if iteration %20 == 0:\n",
    "                cv2.imwrite('alpha_test_' + str(iteration/20) + '.jpg', alpha)\n",
    "            alpha = alpha / 255.\n",
    "            mse_diff = ((pred_alpha - alpha) ** 2).sum() / pixel\n",
    "            sad_diff = np.abs(pred_alpha - alpha).sum() /  100.\n",
    "            mse_diffs += mse_diff\n",
    "            sad_diffs += sad_diff\n",
    "\n",
    "    #         mse_diff1 = ((pred_mattes - alpha) ** 2).sum() / pixel\n",
    "    #         sad_diff1 = np.abs(pred_mattes - alpha).sum() /  100.\n",
    "    #         mse_diffs1 += mse_diff1\n",
    "    #         sad_diffs1 += sad_diff1\n",
    "    #         print(mse_diffs/(iteration+1), sad_diffs/(iteration+1), iteration)\n",
    "    #             sys.stdout.write('Iteration: %4d     MSE Loss1: %2.2f   SAD Loss1: %4.2f'% (iteration, mse_diffs1/(iteration+1), sad_diffs1/(iteration+1)))\n",
    "    #         sys.stdout.write('\\rIteration: %4d  MSE Loss1: %2.3f  SAD Loss1: %4.2f  MSE Loss2: %2.3f  SAD Loss2: %4.2f'% (iteration, mse_diffs1/(iteration+1), sad_diffs1/(iteration+1), mse_diffs/(iteration+1), sad_diffs/(iteration+1)))\n",
    "    #         sys.stdout.flush()\n",
    "            print(iteration)\n",
    "            trimap = cv2.imread(trimap_path + file_info[3])[:, :, 0]\n",
    "            trimap = cv2.resize(trimap, (pred_alpha.shape[1], pred_alpha.shape[0]), interpolation=cv2.INTER_LINEAR)\n",
    "            if iteration % 20 == 0:\n",
    "                cv2.imwrite('../results_last/trimaps/trimap_' + str(iteration/20) + '.jpg', trimap)\n",
    "            pred_alpha[trimap == 255] = 1.\n",
    "            pred_alpha[trimap == 0] = 0.\n",
    "    #         pred_alpha[trimap >= 0 ] = 1.\n",
    "            pred_alpha = (pred_alpha * 255).astype(np.uint8)\n",
    "    #         pred_mattes = (pred_mattes * 255).astype(np.uint8)\n",
    "    #         print(pred_alpha)\n",
    "            if iteration % 20 == 0:\n",
    "                pass\n",
    "    #                 cv2.imwrite('alpha_test_' + str(iteration/20) + '.jpg', alpha)\n",
    "\n",
    "    #             pred_mattes[trimap == 255] = 255\n",
    "    #             pred_mattes[trimap == 0 ] = 0\n",
    "                cv2.imwrite('alpha_predd_' + str(iteration/20) + '.jpg', pred_alpha)\n",
    "            plt.imshow(pred_alpha)\n",
    "        except:\n",
    "            pass\n",
    "            print(iteration)\n",
    "#         if iteration == 40:\n",
    "#             break"
   ]
  },
  {
   "cell_type": "markdown",
   "metadata": {},
   "source": [
    "### Save model"
   ]
  },
  {
   "cell_type": "code",
   "execution_count": 6,
   "metadata": {},
   "outputs": [],
   "source": [
    "def save_model(path, model):\n",
    "    torch.save(model, path)"
   ]
  },
  {
   "cell_type": "markdown",
   "metadata": {},
   "source": [
    "### Main function"
   ]
  },
  {
   "cell_type": "code",
   "execution_count": 8,
   "metadata": {
    "scrolled": false
   },
   "outputs": [
    {
     "name": "stdout",
     "output_type": "stream",
     "text": [
      "1000\n",
      "('16452523375_08591714cf_o.png', '2007_000027.jpg', '16452523375_08591714cf_o.png', '16452523375_08591714cf_o_0.png')\n",
      "0\n",
      "('antique-honiton-lace-1182740_1920.png', '2007_000332.jpg', 'antique-honiton-lace-1182740_1920.png', 'antique-honiton-lace-1182740_1920_0.png')\n",
      "20\n",
      "('ball-597523_1920.png', '2007_000636.jpg', 'ball-597523_1920.png', 'ball-597523_1920_0.png')\n",
      "40\n",
      "('beach-747750_1280.png', '2007_000830.jpg', 'beach-747750_1280.png', 'beach-747750_1280_0.png')\n",
      "60\n",
      "('boy-1518482_1920.png', '2007_001299.jpg', 'boy-1518482_1920.png', 'boy-1518482_1920_0.png')\n",
      "80\n",
      "('brandy-402572_1920.png', '2007_001586.jpg', 'brandy-402572_1920.png', 'brandy-402572_1920_0.png')\n",
      "100\n",
      "('cat-1288531_1920.png', '2007_001764.jpg', 'cat-1288531_1920.png', 'cat-1288531_1920_0.png')\n",
      "120\n",
      "('cobweb-morgentau-dew-dewdrop-52501.png', '2007_002119.jpg', 'cobweb-morgentau-dew-dewdrop-52501.png', 'cobweb-morgentau-dew-dewdrop-52501_0.png')\n",
      "140\n",
      "('crystal-82296_1920.png', '2007_002370.jpg', 'crystal-82296_1920.png', 'crystal-82296_1920_0.png')\n",
      "160\n",
      "('dandelion-1335575_1920.png', '2007_002624.jpg', 'dandelion-1335575_1920.png', 'dandelion-1335575_1920_0.png')\n",
      "180\n",
      "('dandelion-1392492_1920.png', '2007_002967.jpg', 'dandelion-1392492_1920.png', 'dandelion-1392492_1920_0.png')\n",
      "200\n",
      "('dandelion-1394577_1920.png', '2007_003189.jpg', 'dandelion-1394577_1920.png', 'dandelion-1394577_1920_0.png')\n",
      "220\n",
      "('dog-1196645_1920.png', '2007_003503.jpg', 'dog-1196645_1920.png', 'dog-1196645_1920_0.png')\n",
      "240\n",
      "('dog-1203760_1920.png', '2007_003715.jpg', 'dog-1203760_1920.png', 'dog-1203760_1920_0.png')\n",
      "260\n",
      "('drip-water-spray-liquid.png', '2007_004003.jpg', 'drip-water-spray-liquid.png', 'drip-water-spray-liquid_0.png')\n",
      "280\n",
      "('food-cold-wood-hand.png', '2007_004275.jpg', 'food-cold-wood-hand.png', 'food-cold-wood-hand_0.png')\n",
      "300\n",
      "('girl-1219339_1920.png', '2007_004538.jpg', 'girl-1219339_1920.png', 'irl-1219339_1920_0.png')\n",
      "320\n",
      "('girl-1467820_1280.png', '2007_004866.jpg', 'girl-1467820_1280.png', 'irl-1467820_1280_0.png')\n",
      "340\n",
      "('girl-beautiful-young-face-53000.png', '2007_005206.jpg', 'girl-beautiful-young-face-53000.png', 'irl-beautiful-young-face-53000_0.png')\n",
      "360\n",
      "('golden-retriever-1349045_1920.png', '2007_005405.jpg', 'golden-retriever-1349045_1920.png', 'olden-retriever-1349045_1920_0.png')\n",
      "380\n",
      "('horse-1330690_1920.png', '2007_005702.jpg', 'horse-1330690_1920.png', 'horse-1330690_1920_0.png')\n",
      "400\n",
      "('horse-473093_1280.png', '2007_005969.jpg', 'horse-473093_1280.png', 'horse-473093_1280_0.png')\n",
      "420\n",
      "('light-bulb-1104515_1280.png', '2007_006232.jpg', 'light-bulb-1104515_1280.png', 'light-bulb-1104515_1280_0.png')\n",
      "440\n",
      "('light-bulb-376930_1920.png', '2007_006483.jpg', 'light-bulb-376930_1920.png', 'light-bulb-376930_1920_0.png')\n",
      "460\n",
      "('lion-1118467_1920.png', '2007_006698.jpg', 'lion-1118467_1920.png', 'lion-1118467_1920_0.png')\n",
      "480\n",
      "('long-1245787_1920.png', '2007_006901.jpg', 'long-1245787_1920.png', 'long-1245787_1920_0.png')\n",
      "500\n",
      "('malthezer-1047519_1920.png', '2007_007154.jpg', 'malthezer-1047519_1920.png', 'malthezer-1047519_1920_0.png')\n",
      "520\n",
      "('model-600238_1920.png', '2007_007415.jpg', 'model-600238_1920.png', 'model-600238_1920_0.png')\n",
      "540\n",
      "('moon-jellyfish-aurelia-aurita-schirmqualle-66321.png', '2007_007595.jpg', 'moon-jellyfish-aurelia-aurita-schirmqualle-66321.png', 'moon-jellyfish-aurelia-aurita-schirmqualle-66321_0.png')\n",
      "560\n",
      "('network-579555_1920.png', '2007_007836.jpg', 'network-579555_1920.png', 'etwork-579555_1920_0.png')\n",
      "580\n",
      "('neurons-877574_1920.png', '2007_008043.jpg', 'neurons-877574_1920.png', 'eurons-877574_1920_0.png')\n",
      "600\n",
      "('pasture-67658_1920.png', '2007_008339.jpg', 'pasture-67658_1920.png', 'asture-67658_1920_0.png')\n",
      "620\n",
      "('pexels-photo-110949.png', '2007_008670.jpg', 'pexels-photo-110949.png', 'exels-photo-110949_0.png')\n",
      "640\n",
      "('pexels-photo-38974.png', '2007_008964.jpg', 'pexels-photo-38974.png', 'exels-photo-38974_0.png')\n",
      "660\n",
      "('pexels-photo-58463.png', '2007_009252.jpg', 'pexels-photo-58463.png', 'exels-photo-58463_0.png')\n",
      "680\n",
      "('pexels-photo-68084.png', '2007_009446.jpg', 'pexels-photo-68084.png', 'exels-photo-68084_0.png')\n",
      "700\n",
      "('pink-hair-selfie-bun.png', '2007_009630.jpg', 'pink-hair-selfie-bun.png', 'ink-hair-selfie-bu_0.png')\n",
      "720\n",
      "('puppy-1226295_1920.png', '2007_009788.jpg', 'puppy-1226295_1920.png', 'uppy-1226295_1920_0.png')\n",
      "740\n",
      "('retriever-348572_1920 (1).png', '2008_000009.jpg', 'retriever-348572_1920 (1).png', 'retriever-348572_1920 (1)_0.png')\n",
      "760\n",
      "('rhea-bird-408648_1920.png', '2008_000052.jpg', 'rhea-bird-408648_1920.png', 'rhea-bird-408648_1920_0.png')\n",
      "780\n",
      "('sea-sunny-person-beach.png', '2008_000089.jpg', 'sea-sunny-person-beach.png', 'sea-sunny-person-beach_0.png')\n",
      "800\n",
      "('sheep-63230_1920.png', '2008_000133.jpg', 'sheep-63230_1920.png', 'sheep-63230_1920_0.png')\n",
      "820\n",
      "('sieve-641426_1920.png', '2008_000183.jpg', 'sieve-641426_1920.png', 'sieve-641426_1920_0.png')\n",
      "840\n",
      "('spring-289527_1920.png', '2008_000217.jpg', 'spring-289527_1920.png', 'spring-289527_1920_0.png')\n",
      "860\n",
      "('still-life-1037378_1920.png', '2008_000255.jpg', 'still-life-1037378_1920.png', 'still-life-1037378_1920_0.png')\n",
      "880\n",
      "('teddy-562960_1920.png', '2008_000287.jpg', 'teddy-562960_1920.png', 'teddy-562960_1920_0.png')\n",
      "900\n",
      "('teddy-bear-1180034_1920.png', '2008_000336.jpg', 'teddy-bear-1180034_1920.png', 'teddy-bear-1180034_1920_0.png')\n",
      "920\n",
      "('wedding-dresses-1486260_1280.png', '2008_000376.jpg', 'wedding-dresses-1486260_1280.png', 'wedding-dresses-1486260_1280_0.png')\n",
      "940\n",
      "('woman-952506_1920 (1).png', '2008_000414.jpg', 'woman-952506_1920 (1).png', 'woman-952506_1920 (1)_0.png')\n",
      "960\n",
      "('woman-morning-bathrobe-bathroom.png', '2008_000448.jpg', 'woman-morning-bathrobe-bathroom.png', 'woman-morning-bathrobe-bathroom_0.png')\n",
      "980\n"
     ]
    },
    {
     "data": {
      "image/png": "[encoded data removed]",
      "text/plain": [
       "<Figure size 432x288 with 1 Axes>"
      ]
     },
     "metadata": {
      "needs_background": "light"
     },
     "output_type": "display_data"
    }
   ],
   "source": [
    "def main(stage=1, cuda=False):\n",
    "    if cuda and not torch.cuda.is_available():\n",
    "        raise Exception(\"No GPU found\")\n",
    "    if cuda:\n",
    "        torch.cuda.manual_seed(123)\n",
    "    else:\n",
    "        torch.manual_seed(123)\n",
    "    \n",
    "    fg_path = '/scratch/matting/dataset/Test_set/adobe/fg/'\n",
    "    bg_path = '/scratch/matting/dataset/VOCO_dataset/'\n",
    "    alpha_path = '/scratch/matting/dataset/Test_set/adobe/alpha/'\n",
    "    trimap_path = '/scratch/matting/dataset/Test_set/adobe/trimaps/'\n",
    "#     vgg_path = '/scratch/matting/model_10_stage2.pth'\n",
    "    vgg_path = '/scratch/matting/dataset/full_trained.pth'\n",
    "    fg_file = '/scratch/matting/dataset/Test_set/test_fg_names.txt'\n",
    "    bg_file = '/scratch/matting/dataset/Test_set/test_bg_names.txt'\n",
    "    files_list = get_files_list(fg_file, bg_file)\n",
    "    dataset = load_dataset(fg_path, alpha_path, bg_path, files_list)\n",
    "    model = get_model(stage)\n",
    "#     model = UNet(1)\n",
    "    vgg_dict = torch.load(vgg_path, map_location='cpu')\n",
    "#     vgg_dict = torch.load_state_dict(vgg_dict)\n",
    "#     model = copy_pretrain_vals(model, vgg_dict[\"state_dict\"], True)\n",
    "#     model = copy_pretrain_vals(model, vgg_dict.state_dict(), True)\n",
    "    model = copy_pretrain_vals(model, vgg_dict[\"state_dict\"], True)\n",
    "#     print(model)\n",
    "    if cuda:\n",
    "        model = model.cuda()\n",
    "    test_model(model, dataset, trimap_path, cuda)\n",
    "main(stage=1)"
   ]
  },
  {
   "cell_type": "code",
   "execution_count": null,
   "metadata": {},
   "outputs": [],
   "source": []
  }
 ],
 "metadata": {
  "kernelspec": {
   "display_name": "CV Project",
   "language": "python",
   "name": "venv"
  },
  "language_info": {
   "codemirror_mode": {
    "name": "ipython",
    "version": 2
   },
   "file_extension": ".py",
   "mimetype": "text/x-python",
   "name": "python",
   "nbconvert_exporter": "python",
   "pygments_lexer": "ipython2",
   "version": "2.7.12"
  }
 },
 "nbformat": 4,
 "nbformat_minor": 2
}
